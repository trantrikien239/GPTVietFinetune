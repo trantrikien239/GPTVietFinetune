{
 "cells": [
  {
   "cell_type": "code",
   "execution_count": 19,
   "metadata": {},
   "outputs": [],
   "source": [
    "import pandas as pd\n",
    "import numpy as np"
   ]
  },
  {
   "cell_type": "code",
   "execution_count": 2,
   "metadata": {},
   "outputs": [],
   "source": [
    "def aggregate(df_path, main_question_col, desc_question_col, answer_col, link_col, link_href_col):\n",
    "    df = pd.read_excel(df_path)\n",
    "    df[main_question_col] = df[[\n",
    "        main_question_col, link_col]\n",
    "        ].bfill(axis=1).iloc[:,0]\n",
    "    df_agg = df.fillna('NA').groupby(link_href_col).agg({\n",
    "        main_question_col: lambda x: x.tolist()[0],\n",
    "        desc_question_col: lambda x: x.tolist()[0],\n",
    "        answer_col: lambda x: x.tolist(),\n",
    "        }).reset_index()\n",
    "    return df_agg.rename(columns={\n",
    "        link_href_col: 'link',\n",
    "        main_question_col: 'main_question',\n",
    "        desc_question_col: 'desc_question',\n",
    "        answer_col: 'answers'\n",
    "        })\n",
    "\n",
    "def preprocess(df_agg):\n",
    "    list_out = []\n",
    "    for line in df_agg.to_dict('records'):\n",
    "        article_link_href = line['link']\n",
    "        main_question_text = line['main_question']\n",
    "        desc_question_text = line['desc_question']\n",
    "        answer_text = line['answers']\n",
    "        if 'Trả lời:' not in answer_text:\n",
    "            continue\n",
    "        else:\n",
    "            is_answer = False\n",
    "            desc_question_list_out = []\n",
    "            answer_list_out = []\n",
    "            for p in [desc_question_text] + answer_text:\n",
    "                if p == 'Trả lời:':\n",
    "                    is_answer = True\n",
    "                elif not is_answer:\n",
    "                    desc_question_list_out.append(p)\n",
    "                else:\n",
    "                    answer_list_out.append(p)\n",
    "            if ')' in desc_question_list_out[-1][-5:]:\n",
    "                desc_question_list_out[-1] = '('.join(desc_question_list_out[-1].split('(')[:-1])\n",
    "            desc_question_text_out = '\\n'.join(desc_question_list_out).strip()\n",
    "            if len(answer_list_out) == 0:\n",
    "                continue\n",
    "            else:\n",
    "                if answer_list_out[-1]=='NA' or 'tại đây' in answer_list_out[-1].lower() or 'độc giả' in answer_list_out[-1].lower():\n",
    "                    answer_list_out.pop()\n",
    "                if len(answer_list_out) == 0:\n",
    "                    continue\n",
    "                else:\n",
    "                    source = answer_list_out[-1]\n",
    "            answer_text_out = '\\n'.join(answer_list_out[:-1])\n",
    "            list_out.append([article_link_href, main_question_text, desc_question_text_out, answer_text_out, source])\n",
    "    \n",
    "    df_out = pd.DataFrame(list_out, columns=['link', 'main_question', 'desc_question', 'answers', 'source'])\n",
    "\n",
    "    return df_out\n"
   ]
  },
  {
   "cell_type": "code",
   "execution_count": 3,
   "metadata": {},
   "outputs": [
    {
     "name": "stdout",
     "output_type": "stream",
     "text": [
      "(339, 5)\n"
     ]
    }
   ],
   "source": [
    "df_clean = preprocess(aggregate(\n",
    "    'data/health_v0.xlsx',\n",
    "    'main-question-text',\n",
    "    'desc-question-text',\n",
    "    'answer-text',\n",
    "    'article-link',\n",
    "    'article-link-href'))\n",
    "print(df_clean.shape)"
   ]
  },
  {
   "cell_type": "code",
   "execution_count": 4,
   "metadata": {},
   "outputs": [
    {
     "name": "stdout",
     "output_type": "stream",
     "text": [
      "(339, 5)\n"
     ]
    }
   ],
   "source": [
    "df_clean_v2 = preprocess(aggregate(\n",
    "    'data/health_v1.xlsx',\n",
    "    'main_question',\n",
    "    'desc_question',\n",
    "    'answers',\n",
    "    'article-links',\n",
    "    'article-links-href'))\n",
    "print(df_clean_v2.shape)"
   ]
  },
  {
   "cell_type": "code",
   "execution_count": 5,
   "metadata": {},
   "outputs": [
    {
     "name": "stdout",
     "output_type": "stream",
     "text": [
      "(45, 5)\n"
     ]
    }
   ],
   "source": [
    "df_clean_v3 = preprocess(aggregate(\n",
    "    'data/health-nutrition.xlsx',\n",
    "    'main_question',\n",
    "    'desc_question',\n",
    "    'answers',\n",
    "    'article-links',\n",
    "    'article-links-href'))\n",
    "print(df_clean_v3.shape)"
   ]
  },
  {
   "cell_type": "code",
   "execution_count": 6,
   "metadata": {},
   "outputs": [
    {
     "name": "stdout",
     "output_type": "stream",
     "text": [
      "(416, 5)\n"
     ]
    }
   ],
   "source": [
    "df_clean_v4 = preprocess(aggregate(\n",
    "    'data/health-disease.xlsx',\n",
    "    'main_question',\n",
    "    'desc_question',\n",
    "    'answers',\n",
    "    'article-links',\n",
    "    'article-links-href'))\n",
    "print(df_clean_v4.shape)"
   ]
  },
  {
   "cell_type": "code",
   "execution_count": 10,
   "metadata": {},
   "outputs": [],
   "source": [
    "# Combine the dataframes and remove duplicates\n",
    "df_clean_final = pd.concat([df_clean, df_clean_v2, df_clean_v3, df_clean_v4]).drop_duplicates(subset=['link']).reset_index(drop=True)"
   ]
  },
  {
   "cell_type": "code",
   "execution_count": 11,
   "metadata": {},
   "outputs": [
    {
     "data": {
      "text/html": [
       "<div>\n",
       "<style scoped>\n",
       "    .dataframe tbody tr th:only-of-type {\n",
       "        vertical-align: middle;\n",
       "    }\n",
       "\n",
       "    .dataframe tbody tr th {\n",
       "        vertical-align: top;\n",
       "    }\n",
       "\n",
       "    .dataframe thead th {\n",
       "        text-align: right;\n",
       "    }\n",
       "</style>\n",
       "<table border=\"1\" class=\"dataframe\">\n",
       "  <thead>\n",
       "    <tr style=\"text-align: right;\">\n",
       "      <th></th>\n",
       "      <th>main_question</th>\n",
       "      <th>desc_question</th>\n",
       "      <th>answers</th>\n",
       "      <th>source</th>\n",
       "    </tr>\n",
       "  </thead>\n",
       "  <tbody>\n",
       "    <tr>\n",
       "      <th>0</th>\n",
       "      <td>Ăn bánh mì chấm sữa buổi sáng có tốt?</td>\n",
       "      <td>Gia đình tôi thường xuyên ăn bánh mì chấm sữa ...</td>\n",
       "      <td>Bánh mì chấm sữa buổi sáng được nhiều người lự...</td>\n",
       "      <td>Tiến sĩ, bác sĩ Nguyễn Trọng Hưng\\nViện Dinh d...</td>\n",
       "    </tr>\n",
       "    <tr>\n",
       "      <th>1</th>\n",
       "      <td>Ăn bao nhiêu miếng bánh chưng thì không béo?</td>\n",
       "      <td>Tôi rất thích ăn đồ nếp, đặc biệt là bánh chưn...</td>\n",
       "      <td>Bánh chưng là món ăn có lịch sử lâu đời và gắn...</td>\n",
       "      <td>Viện trưởng Viện Y học Ứng dụng Việt Nam</td>\n",
       "    </tr>\n",
       "    <tr>\n",
       "      <th>2</th>\n",
       "      <td>Ăn cá bụng to hay bé tốt hơn?</td>\n",
       "      <td>Khi mua cá, tôi thường chọn những con bụng to ...</td>\n",
       "      <td>Mỗi loại cá có thành phần dinh dưỡng khác nhau...</td>\n",
       "      <td>PGS.TS Nguyễn Duy Thịnh\\nViện Công nghệ sinh h...</td>\n",
       "    </tr>\n",
       "    <tr>\n",
       "      <th>3</th>\n",
       "      <td>Ăn cá hay thịt tốt hơn?</td>\n",
       "      <td>Nhiều người cho rằng nên ăn nhiều cá thay vì t...</td>\n",
       "      <td>Cá và thịt đều là nguồn protein chính và quan ...</td>\n",
       "      <td>PGS. TS Nguyễn Duy Thịnh\\nViện Khoa học và Côn...</td>\n",
       "    </tr>\n",
       "    <tr>\n",
       "      <th>4</th>\n",
       "      <td>Ăn cà muối xổi có gây độc?</td>\n",
       "      <td>Gia đình tôi hay ăn cà muối xổi, song nhiều th...</td>\n",
       "      <td>Cà pháo có tác dụng kích thích đường ruột, dễ ...</td>\n",
       "      <td>PGS Nguyễn Duy Thịnh\\nViện Công nghệ sinh học ...</td>\n",
       "    </tr>\n",
       "  </tbody>\n",
       "</table>\n",
       "</div>"
      ],
      "text/plain": [
       "                                  main_question  \\\n",
       "0         Ăn bánh mì chấm sữa buổi sáng có tốt?   \n",
       "1  Ăn bao nhiêu miếng bánh chưng thì không béo?   \n",
       "2                 Ăn cá bụng to hay bé tốt hơn?   \n",
       "3                       Ăn cá hay thịt tốt hơn?   \n",
       "4                    Ăn cà muối xổi có gây độc?   \n",
       "\n",
       "                                       desc_question  \\\n",
       "0  Gia đình tôi thường xuyên ăn bánh mì chấm sữa ...   \n",
       "1  Tôi rất thích ăn đồ nếp, đặc biệt là bánh chưn...   \n",
       "2  Khi mua cá, tôi thường chọn những con bụng to ...   \n",
       "3  Nhiều người cho rằng nên ăn nhiều cá thay vì t...   \n",
       "4  Gia đình tôi hay ăn cà muối xổi, song nhiều th...   \n",
       "\n",
       "                                             answers  \\\n",
       "0  Bánh mì chấm sữa buổi sáng được nhiều người lự...   \n",
       "1  Bánh chưng là món ăn có lịch sử lâu đời và gắn...   \n",
       "2  Mỗi loại cá có thành phần dinh dưỡng khác nhau...   \n",
       "3  Cá và thịt đều là nguồn protein chính và quan ...   \n",
       "4  Cà pháo có tác dụng kích thích đường ruột, dễ ...   \n",
       "\n",
       "                                              source  \n",
       "0  Tiến sĩ, bác sĩ Nguyễn Trọng Hưng\\nViện Dinh d...  \n",
       "1           Viện trưởng Viện Y học Ứng dụng Việt Nam  \n",
       "2  PGS.TS Nguyễn Duy Thịnh\\nViện Công nghệ sinh h...  \n",
       "3  PGS. TS Nguyễn Duy Thịnh\\nViện Khoa học và Côn...  \n",
       "4  PGS Nguyễn Duy Thịnh\\nViện Công nghệ sinh học ...  "
      ]
     },
     "execution_count": 11,
     "metadata": {},
     "output_type": "execute_result"
    }
   ],
   "source": [
    "df_clean_final.drop(columns=['link'], inplace=True)\n",
    "df_clean_final.head()"
   ]
  },
  {
   "cell_type": "code",
   "execution_count": 12,
   "metadata": {},
   "outputs": [
    {
     "data": {
      "text/plain": [
       "<AxesSubplot: >"
      ]
     },
     "execution_count": 12,
     "metadata": {},
     "output_type": "execute_result"
    },
    {
     "data": {
      "image/png": "[encoded data removed]",
      "text/plain": [
       "<Figure size 640x480 with 1 Axes>"
      ]
     },
     "metadata": {},
     "output_type": "display_data"
    }
   ],
   "source": [
    "df_clean_final['num_words'] = df_clean_final['answers'].apply(lambda x: len(x.split()))\n",
    "df_clean_final['num_words'].hist(bins=100)"
   ]
  },
  {
   "cell_type": "code",
   "execution_count": 13,
   "metadata": {},
   "outputs": [],
   "source": [
    "df_clean_final[df_clean_final['num_words'].between(100,800)].reset_index(drop=True).to_parquet('data/clean/health_qa.parquet')"
   ]
  },
  {
   "cell_type": "code",
   "execution_count": 14,
   "metadata": {},
   "outputs": [
    {
     "data": {
      "text/plain": [
       "<AxesSubplot: >"
      ]
     },
     "execution_count": 14,
     "metadata": {},
     "output_type": "execute_result"
    },
    {
     "data": {
      "image/png": "[encoded data removed]",
      "text/plain": [
       "<Figure size 640x480 with 1 Axes>"
      ]
     },
     "metadata": {},
     "output_type": "display_data"
    }
   ],
   "source": [
    "df_clean = pd.read_parquet('data/clean/health_qa.parquet')\n",
    "df_clean.num_words.hist(bins=20)"
   ]
  },
  {
   "cell_type": "code",
   "execution_count": 17,
   "metadata": {},
   "outputs": [
    {
     "name": "stdout",
     "output_type": "stream",
     "text": [
      "Trà sữa hiện là thức uống khoái khẩu không chỉ của trẻ em, thanh thiếu niên mà cả người lớn. Tuy có nhiều công thức nhưng cơ bản thức uống này gồm có nước, trà đen, sữa bột, kem sữa, đường, đá, hạt trân châu làm từ bột năng hay bột sắn, ca cao...\n",
      "Đây là một thức uống vừa béo vừa ngọt, có đá nên mát giúp vừa giảm đói vừa giảm khát, thường được làm thành những ly lớn 500-750 ml. Trung bình, một ly trà sữa 500 ml chứa khoảng 300 kcalo. Các ly lớn hơn có thể cung cấp đến 500 kcalo - khoảng 1/3 nhu cầu của một đứa trẻ và 1/4 nhu cầu của người lớn trong một ngày.\n",
      "Trà sữa trân châu cũng có thể được thêm nhiều đường. Báo cáo từ Food Science & Nutrition ước tính, mỗi cốc trà sữa 500 ml chứa khoảng 38g đường. Hàm lượng đường này sẽ thay đổi tùy theo hương vị và chất phụ gia được thêm vào cốc trà sữa. Chính điều này khiến đồ uống này trở thành thức uống đáng lo ngại với trẻ nhỏ và người lớn.\n",
      "Học viện Nhi khoa Mỹ (AAP) khuyến nghị, trẻ em từ 2 tuổi trở lên bổ sung ít hơn 25 g đường mỗi ngày, trẻ em dưới 2 tuổi không được khuyến khích. Viện Dinh dưỡng Quốc gia Việt Nam khuyến cáo tiêu thụ dưới 20 g đường mỗi ngày đối với người lớn. Việc dung nạp nhiều đường làm tăng nguy cơ thừa cân béo phì và tổn thương màng tế bào cơ thể gây lão hóa và bệnh tim mạch. Lượng calo nhập quá mức cũng làm tăng nguy cơ phát triển béo phì và bệnh tiểu đường type 2 ở trẻ.\n",
      "Hơn nữa, nghiên cứu từ Trung tâm An toàn Thực phẩm của Hồng Kông cho thấy, một khẩu phần trà sữa điển hình chứa trung bình khoảng 130 mg caffeine từ trà và ca cao (gần bằng lượng caffeine trong một cốc cà phê điển hình là 200 mg). Hiện tại, chưa có kết luận nào về lượng caffeine an toàn cho trẻ em từ 12 tuổi trở xuống. Thanh thiếu niên không nên dung nạp quá 100 mg caffeine mỗi ngày, tương đương một tách nhỏ cà phê. Quá nhiều caffein có thể gây lo lắng, đau đầu, ủ rũ, đau bụng, mất ngủ, nhịp tim bất thường, huyết áp cao, run và các tác động tiêu cực khác đến sức khỏe trẻ.\n",
      "Thành phần kem sữa có thể không an toàn vì chứa nhiều béo no, làm tăng cholesterol xấu cho máu và nguy cơ xơ vữa mạch. Nguy hiểm hơn, chất tannin từ trà sẽ làm ức chế sự hấp thu canxi trong sữa, giảm hấp thu chất sắt gây thiếu máu, caffeine làm mất canxi gây thiếu canxi, loãng xương. Việc sử dụng nhiều hạt trân châu, đường, sữa, nước... có thể gây đầy bụng, bỏ ăn bữa chính mà không dung nạp đủ protein, chất xơ, vitamin.\n",
      "Một nguy cơ khác ở trẻ khi uống trà sữa trân châu mà phụ huynh cần quan tâm là gây nuốt nghẹn hay nghẹt thở thanh quản. Những hạt trân châu thường có đường kính 10-15 mm, có thể khiến trẻ nhỏ khó nuốt đúng cách. Ngoài ra, chúng cần một lực hút rất lớn mới có thể đi vào trong miệng. Với người lớn thì không là vấn đề nhưng với trẻ nhỏ sẽ làm tăng nguy cơ sặc vào thanh quản gây nghẹt thở, đặc biệt là trẻ em dưới 4 tuổi.\n",
      "Do đó, nếu các bé nhà bạn dưới 4 tuổi thì không nên cho uống trà sữa trân châu. Với trẻ dưới 12 tuổi cũng không khuyến khích, trẻ lớn hơn hoặc tuổi thanh thiếu niên thì có thể thưởng thức một cách an toàn khi thỉnh thoảng chỉ uống một ly.\n",
      "Để đảm bảo về chất lượng, bạn có thể pha trà sữa trân châu tại nhà và kiểm soát những thành phần dinh dưỡng như chọn sữa tốt, trân châu bột sắn tự làm, cho ít đường... Nếu mua tại cửa hàng trà sữa có thể yêu cầu ít ngọt hơn và chọn cỡ nhỏ nhất cho con. Nếu bạn lo lắng về các hạt trân châu, hãy chọn loại mềm hoặc cũng có thể không cần cho thêm vào ly trà sữa.\n"
     ]
    }
   ],
   "source": [
    "print(df_clean[df_clean['num_words'].between(700,800)].iloc[20,2])"
   ]
  },
  {
   "cell_type": "code",
   "execution_count": 20,
   "metadata": {},
   "outputs": [
    {
     "data": {
      "text/plain": [
       "True     695\n",
       "False     41\n",
       "Name: is_train, dtype: int64"
      ]
     },
     "execution_count": 20,
     "metadata": {},
     "output_type": "execute_result"
    }
   ],
   "source": [
    "# Train-test split 5% test\n",
    "df_clean = pd.read_parquet('data/clean/health_qa.parquet')\n",
    "np.random.seed(42)\n",
    "df_clean['is_train'] = np.random.uniform(0, 1, len(df_clean)) <= .95\n",
    "df_clean['is_train'].value_counts()\n"
   ]
  },
  {
   "cell_type": "code",
   "execution_count": null,
   "metadata": {},
   "outputs": [],
   "source": []
  }
 ],
 "metadata": {
  "kernelspec": {
   "display_name": "trans",
   "language": "python",
   "name": "python3"
  },
  "language_info": {
   "codemirror_mode": {
    "name": "ipython",
    "version": 3
   },
   "file_extension": ".py",
   "mimetype": "text/x-python",
   "name": "python",
   "nbconvert_exporter": "python",
   "pygments_lexer": "ipython3",
   "version": "3.9.15"
  }
 },
 "nbformat": 4,
 "nbformat_minor": 2
}
