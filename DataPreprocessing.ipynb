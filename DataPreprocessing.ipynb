{
 "cells": [
  {
   "cell_type": "code",
   "execution_count": 1,
   "metadata": {},
   "outputs": [],
   "source": [
    "import pandas as pd\n",
    "import numpy as np\n",
    "from utils import get_text"
   ]
  },
  {
   "cell_type": "code",
   "execution_count": 2,
   "metadata": {},
   "outputs": [],
   "source": [
    "def is_institution(p):\n",
    "    institutions = [\"bệnh viện\", \"viện\", \"khoa\", \"học viện\", \"đại học\", \"trung tâm\"]\n",
    "    institution_flag = False\n",
    "    for institution in institutions:\n",
    "        if institution in p.lower():\n",
    "            institution_flag = True\n",
    "            break\n",
    "    \n",
    "    return institution_flag\n",
    "\n",
    "def is_title(p):\n",
    "    titles = [\"bác sĩ\", \"bs\", \"ts\", \"thầy thuốc\", \"pgs\", \"gs\", \"tiến sĩ\", \n",
    "        \"lương y\", \"chuyên gia\", \"thạc sĩ\", \"chuyên viên\"]\n",
    "    title_flag = False\n",
    "    for title in titles:\n",
    "        if title in p[:35].lower():\n",
    "            title_flag = True\n",
    "            break\n",
    "    \n",
    "    return title_flag\n",
    "\n",
    "is_short = lambda p: len(p.split(\"\\n\")[0]) < 50\n",
    "is_not_long = lambda p: len(p.split(\"\\n\")[0]) < 200\n",
    "\n",
    "def is_name(p):\n",
    "    names = ['đoàn', 'võ', 'đinh', 'lục', 'bùi', 'trần', 'hồ', 'lưu', 'chu', 'dương',\n",
    "        'vũ', 'ngô', 'trương', 'huỳnh', 'phùng', 'lê', 'lương', 'đỗ', 'hoàng', \n",
    "        'đặng', 'phan', 'văn', 'phạm', 'thị', 'kim', 'lý', 'nguyễn', 'tạ',\n",
    "        'nguyên', 'thái', 'cao', 'trịnh', 'mai', 'tô', 'hà', 'châu', 'hương',\n",
    "        'duy', 'trà', 'ngữ', 'sơn', 'yến', 'hải', 'paul', 'kiều', 'andrew']\n",
    "    name_flag = False\n",
    "    list_p = p.lower().replace(',', '').split()\n",
    "    for name in names:\n",
    "        if name in list_p[:12]:\n",
    "            name_flag = True\n",
    "            break\n",
    "    \n",
    "    return name_flag"
   ]
  },
  {
   "cell_type": "code",
   "execution_count": null,
   "metadata": {},
   "outputs": [],
   "source": []
  },
  {
   "cell_type": "code",
   "execution_count": 3,
   "metadata": {},
   "outputs": [],
   "source": [
    "def aggregate(df_path, main_question_col, desc_question_col, answer_col, link_col, link_href_col):\n",
    "    df = pd.read_excel(df_path)\n",
    "    df[main_question_col] = df[[\n",
    "        main_question_col, link_col]\n",
    "        ].bfill(axis=1).iloc[:,0]\n",
    "    df_agg = df.fillna('NA').groupby(link_href_col).agg({\n",
    "        main_question_col: lambda x: x.tolist()[0],\n",
    "        desc_question_col: lambda x: x.tolist()[0],\n",
    "        answer_col: lambda x: x.tolist(),\n",
    "        }).reset_index()\n",
    "    return df_agg.rename(columns={\n",
    "        link_href_col: 'link',\n",
    "        main_question_col: 'main_question',\n",
    "        desc_question_col: 'desc_question',\n",
    "        answer_col: 'answers'\n",
    "        })\n",
    "\n",
    "def preprocess(df_agg):\n",
    "    list_out = []\n",
    "    for line in df_agg.to_dict('records'):\n",
    "        article_link_href = line['link']\n",
    "        main_question_text = line['main_question']\n",
    "        desc_question_text = line['desc_question']\n",
    "        answer_text = line['answers']\n",
    "        if 'Trả lời:' not in answer_text:\n",
    "            continue\n",
    "        else:\n",
    "            # if \"Bị chó cắn sau bao lâu\" in main_question_text:\n",
    "            #     import pdb; pdb.set_trace()\n",
    "            is_answer = False\n",
    "            is_source = False\n",
    "            desc_question_list_out = []\n",
    "            answer_list_out = []\n",
    "            source_list_out = []\n",
    "            for p in [desc_question_text] + answer_text:\n",
    "                if p == 'Trả lời:':\n",
    "                    is_answer = True\n",
    "                elif is_title(p) and is_name(p) and (is_short(p) or \\\n",
    "                    (is_institution(p[:70]) and is_not_long(p))):\n",
    "                    is_source = True\n",
    "                    source_list_out.append(p)\n",
    "                elif not is_answer:\n",
    "                    desc_question_list_out.append(p)\n",
    "                elif is_answer and not is_source:\n",
    "                    answer_list_out.append(p)\n",
    "                elif is_source:\n",
    "                    source_list_out.append(p)\n",
    "            if ')' in desc_question_list_out[-1][-5:]:\n",
    "                desc_question_list_out[-1] = '('.join(desc_question_list_out[-1].split('(')[:-1])\n",
    "            desc_question_text_out = '\\n'.join(desc_question_list_out).strip()\n",
    "            if len(answer_list_out) == 0:\n",
    "                continue\n",
    "            else:\n",
    "                if answer_list_out[-1]=='NA' or 'tại đây' in answer_list_out[-1].lower() or 'độc giả' in answer_list_out[-1].lower():\n",
    "                    answer_list_out.pop()\n",
    "                if len(answer_list_out) == 0:\n",
    "                    continue\n",
    "\n",
    "                if len(source_list_out) > 0 and (source_list_out[-1]=='NA' or 'tại đây' in source_list_out[-1].lower() or 'độc giả' in source_list_out[-1].lower()):\n",
    "                    source_list_out.pop()\n",
    "                \n",
    "            if is_title(answer_list_out[-1]):\n",
    "                answer_text_out = '\\n'.join(answer_list_out[:-1])\n",
    "            else:\n",
    "                answer_text_out = '\\n'.join(answer_list_out)\n",
    "            source = '\\n'.join(source_list_out)\n",
    "            list_out.append([article_link_href, main_question_text, desc_question_text_out, answer_text_out, source])\n",
    "    \n",
    "    df_out = pd.DataFrame(list_out, columns=['link', 'main_question', 'desc_question', 'answers', 'source'])\n",
    "\n",
    "    return df_out\n"
   ]
  },
  {
   "cell_type": "code",
   "execution_count": 4,
   "metadata": {},
   "outputs": [
    {
     "name": "stdout",
     "output_type": "stream",
     "text": [
      "(338, 5)\n"
     ]
    }
   ],
   "source": [
    "df_clean = preprocess(aggregate(\n",
    "    'data/health_v0.xlsx',\n",
    "    'main-question-text',\n",
    "    'desc-question-text',\n",
    "    'answer-text',\n",
    "    'article-link',\n",
    "    'article-link-href'))\n",
    "print(df_clean.shape)"
   ]
  },
  {
   "cell_type": "code",
   "execution_count": 5,
   "metadata": {},
   "outputs": [
    {
     "name": "stdout",
     "output_type": "stream",
     "text": [
      "(338, 5)\n"
     ]
    }
   ],
   "source": [
    "df_clean_v2 = preprocess(aggregate(\n",
    "    'data/health_v1.xlsx',\n",
    "    'main_question',\n",
    "    'desc_question',\n",
    "    'answers',\n",
    "    'article-links',\n",
    "    'article-links-href'))\n",
    "print(df_clean_v2.shape)"
   ]
  },
  {
   "cell_type": "code",
   "execution_count": 6,
   "metadata": {},
   "outputs": [
    {
     "name": "stdout",
     "output_type": "stream",
     "text": [
      "(45, 5)\n"
     ]
    }
   ],
   "source": [
    "df_clean_v3 = preprocess(aggregate(\n",
    "    'data/health-nutrition.xlsx',\n",
    "    'main_question',\n",
    "    'desc_question',\n",
    "    'answers',\n",
    "    'article-links',\n",
    "    'article-links-href'))\n",
    "print(df_clean_v3.shape)"
   ]
  },
  {
   "cell_type": "code",
   "execution_count": 7,
   "metadata": {},
   "outputs": [
    {
     "name": "stdout",
     "output_type": "stream",
     "text": [
      "(416, 5)\n"
     ]
    }
   ],
   "source": [
    "df_clean_v4 = preprocess(aggregate(\n",
    "    'data/health-disease.xlsx',\n",
    "    'main_question',\n",
    "    'desc_question',\n",
    "    'answers',\n",
    "    'article-links',\n",
    "    'article-links-href'))\n",
    "print(df_clean_v4.shape)"
   ]
  },
  {
   "cell_type": "code",
   "execution_count": 8,
   "metadata": {},
   "outputs": [],
   "source": [
    "# Combine the dataframes and remove duplicates\n",
    "df_clean_final = pd.concat([df_clean, df_clean_v2, df_clean_v3, df_clean_v4]).drop_duplicates(subset=['link']).reset_index(drop=True)"
   ]
  },
  {
   "cell_type": "code",
   "execution_count": 9,
   "metadata": {},
   "outputs": [
    {
     "data": {
      "text/html": [
       "<div>\n",
       "<style scoped>\n",
       "    .dataframe tbody tr th:only-of-type {\n",
       "        vertical-align: middle;\n",
       "    }\n",
       "\n",
       "    .dataframe tbody tr th {\n",
       "        vertical-align: top;\n",
       "    }\n",
       "\n",
       "    .dataframe thead th {\n",
       "        text-align: right;\n",
       "    }\n",
       "</style>\n",
       "<table border=\"1\" class=\"dataframe\">\n",
       "  <thead>\n",
       "    <tr style=\"text-align: right;\">\n",
       "      <th></th>\n",
       "      <th>main_question</th>\n",
       "      <th>desc_question</th>\n",
       "      <th>answers</th>\n",
       "      <th>source</th>\n",
       "    </tr>\n",
       "  </thead>\n",
       "  <tbody>\n",
       "    <tr>\n",
       "      <th>0</th>\n",
       "      <td>Ăn bánh mì chấm sữa buổi sáng có tốt?</td>\n",
       "      <td>Gia đình tôi thường xuyên ăn bánh mì chấm sữa ...</td>\n",
       "      <td>Bánh mì chấm sữa buổi sáng được nhiều người lự...</td>\n",
       "      <td>Tiến sĩ, bác sĩ Nguyễn Trọng Hưng\\nViện Dinh d...</td>\n",
       "    </tr>\n",
       "    <tr>\n",
       "      <th>1</th>\n",
       "      <td>Ăn bao nhiêu miếng bánh chưng thì không béo?</td>\n",
       "      <td>Tôi rất thích ăn đồ nếp, đặc biệt là bánh chưn...</td>\n",
       "      <td>Bánh chưng là món ăn có lịch sử lâu đời và gắn...</td>\n",
       "      <td>TS.BS. Trương Hồng Sơn\\nViện trưởng Viện Y học...</td>\n",
       "    </tr>\n",
       "    <tr>\n",
       "      <th>2</th>\n",
       "      <td>Ăn cá bụng to hay bé tốt hơn?</td>\n",
       "      <td>Khi mua cá, tôi thường chọn những con bụng to ...</td>\n",
       "      <td>Mỗi loại cá có thành phần dinh dưỡng khác nhau...</td>\n",
       "      <td>PGS.TS Nguyễn Duy Thịnh\\nViện Công nghệ sinh h...</td>\n",
       "    </tr>\n",
       "    <tr>\n",
       "      <th>3</th>\n",
       "      <td>Ăn cá hay thịt tốt hơn?</td>\n",
       "      <td>Nhiều người cho rằng nên ăn nhiều cá thay vì t...</td>\n",
       "      <td>Cá và thịt đều là nguồn protein chính và quan ...</td>\n",
       "      <td>PGS. TS Nguyễn Duy Thịnh\\nViện Khoa học và Côn...</td>\n",
       "    </tr>\n",
       "    <tr>\n",
       "      <th>4</th>\n",
       "      <td>Ăn cà muối xổi có gây độc?</td>\n",
       "      <td>Gia đình tôi hay ăn cà muối xổi, song nhiều th...</td>\n",
       "      <td>Cà pháo có tác dụng kích thích đường ruột, dễ ...</td>\n",
       "      <td>PGS Nguyễn Duy Thịnh\\nViện Công nghệ sinh học ...</td>\n",
       "    </tr>\n",
       "  </tbody>\n",
       "</table>\n",
       "</div>"
      ],
      "text/plain": [
       "                                  main_question  \\\n",
       "0         Ăn bánh mì chấm sữa buổi sáng có tốt?   \n",
       "1  Ăn bao nhiêu miếng bánh chưng thì không béo?   \n",
       "2                 Ăn cá bụng to hay bé tốt hơn?   \n",
       "3                       Ăn cá hay thịt tốt hơn?   \n",
       "4                    Ăn cà muối xổi có gây độc?   \n",
       "\n",
       "                                       desc_question  \\\n",
       "0  Gia đình tôi thường xuyên ăn bánh mì chấm sữa ...   \n",
       "1  Tôi rất thích ăn đồ nếp, đặc biệt là bánh chưn...   \n",
       "2  Khi mua cá, tôi thường chọn những con bụng to ...   \n",
       "3  Nhiều người cho rằng nên ăn nhiều cá thay vì t...   \n",
       "4  Gia đình tôi hay ăn cà muối xổi, song nhiều th...   \n",
       "\n",
       "                                             answers  \\\n",
       "0  Bánh mì chấm sữa buổi sáng được nhiều người lự...   \n",
       "1  Bánh chưng là món ăn có lịch sử lâu đời và gắn...   \n",
       "2  Mỗi loại cá có thành phần dinh dưỡng khác nhau...   \n",
       "3  Cá và thịt đều là nguồn protein chính và quan ...   \n",
       "4  Cà pháo có tác dụng kích thích đường ruột, dễ ...   \n",
       "\n",
       "                                              source  \n",
       "0  Tiến sĩ, bác sĩ Nguyễn Trọng Hưng\\nViện Dinh d...  \n",
       "1  TS.BS. Trương Hồng Sơn\\nViện trưởng Viện Y học...  \n",
       "2  PGS.TS Nguyễn Duy Thịnh\\nViện Công nghệ sinh h...  \n",
       "3  PGS. TS Nguyễn Duy Thịnh\\nViện Khoa học và Côn...  \n",
       "4  PGS Nguyễn Duy Thịnh\\nViện Công nghệ sinh học ...  "
      ]
     },
     "execution_count": 9,
     "metadata": {},
     "output_type": "execute_result"
    }
   ],
   "source": [
    "df_clean_final.drop(columns=['link'], inplace=True)\n",
    "df_clean_final.head()"
   ]
  },
  {
   "cell_type": "code",
   "execution_count": 10,
   "metadata": {},
   "outputs": [
    {
     "data": {
      "text/html": [
       "<div>\n",
       "<style scoped>\n",
       "    .dataframe tbody tr th:only-of-type {\n",
       "        vertical-align: middle;\n",
       "    }\n",
       "\n",
       "    .dataframe tbody tr th {\n",
       "        vertical-align: top;\n",
       "    }\n",
       "\n",
       "    .dataframe thead th {\n",
       "        text-align: right;\n",
       "    }\n",
       "</style>\n",
       "<table border=\"1\" class=\"dataframe\">\n",
       "  <thead>\n",
       "    <tr style=\"text-align: right;\">\n",
       "      <th></th>\n",
       "      <th>main_question</th>\n",
       "      <th>desc_question</th>\n",
       "      <th>answers</th>\n",
       "      <th>source</th>\n",
       "    </tr>\n",
       "  </thead>\n",
       "  <tbody>\n",
       "    <tr>\n",
       "      <th>66</th>\n",
       "      <td>Bị chó cắn sau bao lâu cần tiêm vaccine phòng ...</td>\n",
       "      <td>Chỗ tôi sống có rất nhiều chó thả rông nên tôi...</td>\n",
       "      <td>Nếu chẳng may bị động vật cào/cắn hoặc liếm lê...</td>\n",
       "      <td>ThS.BS Ngô Thị Kim Phượng\\nQuản lý Y khoa, Hệ ...</td>\n",
       "    </tr>\n",
       "    <tr>\n",
       "      <th>319</th>\n",
       "      <td>Vì sao có người bị chó cắn sau nhiều năm mới t...</td>\n",
       "      <td>Tôi đọc báo thấy có trường hợp bị chó dại cắn ...</td>\n",
       "      <td>Dù đã có vaccine phòng ngừa hiệu quả bệnh dại ...</td>\n",
       "      <td>ThS.BS Ngô Thị Kim Phượng\\nQuản lý Y khoa, Hệ ...</td>\n",
       "    </tr>\n",
       "  </tbody>\n",
       "</table>\n",
       "</div>"
      ],
      "text/plain": [
       "                                         main_question  \\\n",
       "66   Bị chó cắn sau bao lâu cần tiêm vaccine phòng ...   \n",
       "319  Vì sao có người bị chó cắn sau nhiều năm mới t...   \n",
       "\n",
       "                                         desc_question  \\\n",
       "66   Chỗ tôi sống có rất nhiều chó thả rông nên tôi...   \n",
       "319  Tôi đọc báo thấy có trường hợp bị chó dại cắn ...   \n",
       "\n",
       "                                               answers  \\\n",
       "66   Nếu chẳng may bị động vật cào/cắn hoặc liếm lê...   \n",
       "319  Dù đã có vaccine phòng ngừa hiệu quả bệnh dại ...   \n",
       "\n",
       "                                                source  \n",
       "66   ThS.BS Ngô Thị Kim Phượng\\nQuản lý Y khoa, Hệ ...  \n",
       "319  ThS.BS Ngô Thị Kim Phượng\\nQuản lý Y khoa, Hệ ...  "
      ]
     },
     "execution_count": 10,
     "metadata": {},
     "output_type": "execute_result"
    }
   ],
   "source": [
    "df_clean_final[df_clean_final['main_question'].apply(lambda x: 'bị chó cắn' in x.lower())]"
   ]
  },
  {
   "cell_type": "code",
   "execution_count": 11,
   "metadata": {},
   "outputs": [
    {
     "data": {
      "text/plain": [
       "(746, 4)"
      ]
     },
     "execution_count": 11,
     "metadata": {},
     "output_type": "execute_result"
    }
   ],
   "source": [
    "df_clean_final.shape"
   ]
  },
  {
   "cell_type": "code",
   "execution_count": 12,
   "metadata": {},
   "outputs": [
    {
     "data": {
      "text/html": [
       "<div>\n",
       "<style scoped>\n",
       "    .dataframe tbody tr th:only-of-type {\n",
       "        vertical-align: middle;\n",
       "    }\n",
       "\n",
       "    .dataframe tbody tr th {\n",
       "        vertical-align: top;\n",
       "    }\n",
       "\n",
       "    .dataframe thead th {\n",
       "        text-align: right;\n",
       "    }\n",
       "</style>\n",
       "<table border=\"1\" class=\"dataframe\">\n",
       "  <thead>\n",
       "    <tr style=\"text-align: right;\">\n",
       "      <th></th>\n",
       "      <th>main_question</th>\n",
       "      <th>desc_question</th>\n",
       "      <th>answers</th>\n",
       "      <th>source</th>\n",
       "    </tr>\n",
       "  </thead>\n",
       "  <tbody>\n",
       "    <tr>\n",
       "      <th>192</th>\n",
       "      <td>Khó nuốt có phải triệu chứng của ung thư?</td>\n",
       "      <td>Hai tuần nay tôi khó nuốt, cảm giác vướng ở cổ...</td>\n",
       "      <td>Khó nuốt có thể là triệu chứng của bệnh ung th...</td>\n",
       "      <td></td>\n",
       "    </tr>\n",
       "    <tr>\n",
       "      <th>203</th>\n",
       "      <td>Làm sao khi trẻ mắc hội chứng sợ kim tiêm?</td>\n",
       "      <td>Cứ mỗi lần nhắc đến chuyện tiêm phòng hoặc nhì...</td>\n",
       "      <td>Theo Hiệp hội Tâm thần Mỹ, hội chứng sợ kim ti...</td>\n",
       "      <td></td>\n",
       "    </tr>\n",
       "    <tr>\n",
       "      <th>308</th>\n",
       "      <td>Uống nước lá, hoa đu đủ có trị được ung thư?</td>\n",
       "      <td>Nhiều người mách uống nước sắc lá và hoa đu đủ...</td>\n",
       "      <td>Quả đu đủ nhiều giá trị dinh dưỡng, nhiều vita...</td>\n",
       "      <td></td>\n",
       "    </tr>\n",
       "    <tr>\n",
       "      <th>331</th>\n",
       "      <td>Vỏ trái cây và rau củ có tốt cho sức khỏe?</td>\n",
       "      <td>Tôi có thói quen không gọt vỏ một số loại trái...</td>\n",
       "      <td>Vỏ trái cây hoặc rau củ thường bị loại bỏ do s...</td>\n",
       "      <td></td>\n",
       "    </tr>\n",
       "  </tbody>\n",
       "</table>\n",
       "</div>"
      ],
      "text/plain": [
       "                                    main_question  \\\n",
       "192     Khó nuốt có phải triệu chứng của ung thư?   \n",
       "203    Làm sao khi trẻ mắc hội chứng sợ kim tiêm?   \n",
       "308  Uống nước lá, hoa đu đủ có trị được ung thư?   \n",
       "331    Vỏ trái cây và rau củ có tốt cho sức khỏe?   \n",
       "\n",
       "                                         desc_question  \\\n",
       "192  Hai tuần nay tôi khó nuốt, cảm giác vướng ở cổ...   \n",
       "203  Cứ mỗi lần nhắc đến chuyện tiêm phòng hoặc nhì...   \n",
       "308  Nhiều người mách uống nước sắc lá và hoa đu đủ...   \n",
       "331  Tôi có thói quen không gọt vỏ một số loại trái...   \n",
       "\n",
       "                                               answers source  \n",
       "192  Khó nuốt có thể là triệu chứng của bệnh ung th...         \n",
       "203  Theo Hiệp hội Tâm thần Mỹ, hội chứng sợ kim ti...         \n",
       "308  Quả đu đủ nhiều giá trị dinh dưỡng, nhiều vita...         \n",
       "331  Vỏ trái cây hoặc rau củ thường bị loại bỏ do s...         "
      ]
     },
     "execution_count": 12,
     "metadata": {},
     "output_type": "execute_result"
    }
   ],
   "source": [
    "df_clean_final[~df_clean_final['source'].apply(is_title)]"
   ]
  },
  {
   "cell_type": "code",
   "execution_count": 13,
   "metadata": {},
   "outputs": [
    {
     "name": "stdout",
     "output_type": "stream",
     "text": [
      "Theo Hiệp hội Tâm thần Mỹ, hội chứng sợ kim tiêm cũng được xếp vào nhóm rối loạn lo âu, một dạng rối loạn tâm thần thường gặp. Đây là cơ chế nhằm bảo vệ cơ thể khỏi bị tổn hại, có thể phát triển thành chứng rối loạn tâm thần suy nhược.\n",
      "Các dấu hiệu bao gồm: Nhịp tim và huyết áp tăng đột ngột khi nhìn thấy kim tiêm; hoặc giảm nhịp tim gây giảm huyết áp; ngất xỉu; lo lắng tột độ không giải thích được; hoảng loạn khi thấy kim tiêm... Ở trẻ em, bé có thể khóc, nổi cơn thịnh nộ, lạnh cóng và bám víu vào người lớn. Nỗi sợ có thể tiến triển thành các cơn hoảng loạn, mất ngủ và né tránh đi khám bác sĩ kể cả khi trẻ lớn lên.\n",
      "Sợ tiêm là tình trạng thường gặp ở trẻ nhỏ, bạn có thể giúp các bé vượt qua nỗi sợ này bằng nhiều cách như dưới đây.\n",
      "Không nói dối trẻ\n",
      "Ba mẹ nên giải thích với con về lợi ích của việc tiêm ngừa vaccine, không nên nói dối trẻ. Cần báo trước khoảng một ngày tiêm để trẻ chuẩn bị tâm lý và thích ứng. Không nên báo việc tiêm ngừa cho trẻ quá sớm vì dễ khiến trẻ căng thẳng, lo sợ kéo dài.\n",
      "Chơi trò chơi bác sĩ\n",
      "Phụ huynh có thể sắm một bộ đồ chơi bác sĩ, thông qua việc làm quen với các dụng cụ y tế đồ chơi, việc thực hành làm bác sĩ, thực hành tiêm ngừa sẽ giúp trẻ cải thiện tình trạng sợ tiêm.\n",
      "Giữ tâm trạng thoải mái, bình tĩnh\n",
      "Việc đầu tiên để bé không sợ tiêm là bố mẹ cần giữ tâm trạng thoải mái, bình tĩnh, vui vẻ. Bởi bố mẹ lo lắng có thể ảnh hưởng tâm trạng của bé, khiến bé càng sợ tiêm.\n",
      "Mang theo đồ vật yêu thích của trẻ khi tiêm\n",
      "Mang theo đồ vật yêu thích có thể làm phân tán sự chú ý của bé, cải thiện tình trạng sợ tiêm. Đối với trẻ mới chập chững biết đi, có thể mang theo gấu bông hay sách ảnh đầy màu sắc. Còn đối với bé lớn hơn có thể cho các bé xem những video vui nhộn hoặc chơi trò chơi.\n",
      "Đánh lạc hướng sự chú ý của trẻ\n",
      "Phụ huynh có thể cho trẻ xem phim hoạt hình, đọc sách hay chơi cùng trẻ để giúp con quên đi nỗi sợ kim tiêm. Các điều dưỡng cũng có thể vừa trò chuyện, chơi đùa với bé vừa tiêm ngừa nhân lúc trẻ không để ý.\n",
      "Hít thở sâu\n",
      "Việc hít thở sâu có thể giúp thư giãn, giảm căng thẳng và hạn chế tập trung vào việc tiêm ngừa hơn. Vì thế, mẹ hãy hướng dẫn bé cách hít sâu bằng mũi và thời ra bằng miệng khoảng 3 - 5 lần.\n",
      "Tạo cảm giác thoải mái cho trẻ\n",
      "Một cái ôm vỗ về hay một cái nắm tay có thể xoa dịu cảm giác bất an của trẻ. Đồng thời, mẹ cũng nên nhắn nhủ với các điều dưỡng hãy nhẹ nhàng và kiên nhẫn với trẻ hơn vì trẻ sợ kim tiêm.\n",
      "100% điều dưỡng viên tại VNVC được đào tạo bài bản kỹ thuật tiêm không đau và kỹ năng giao tiếp, xoa dịu tâm lý các bé. Trung tâm sử dụng hai kim tiêm kích thước lớn và nhỏ trong thao tác rút vaccine và tiêm, giúp giảm cảm giác đau trong quá trình tiêm ngừa. VNVC còn có khu vui chơi giúp trẻ quên đi căng thẳng sau tiêm.\n",
      "Nguyễn Thị Kim Oanh\n",
      "Giám đốc điều dưỡng Hệ thống Trung tâm tiêm chủng VNVC\n"
     ]
    }
   ],
   "source": [
    "print(df_clean_final[~df_clean_final['source'].apply(is_title)].iloc[1]['answers'])"
   ]
  },
  {
   "cell_type": "code",
   "execution_count": 14,
   "metadata": {},
   "outputs": [
    {
     "name": "stdout",
     "output_type": "stream",
     "text": [
      "Nếu chẳng may bị động vật cào/cắn hoặc liếm lên vết thương hở, bạn cần tiêm vaccine phòng dại càng sớm càng tốt để cơ thể kịp sinh kháng thể ngăn chặn sự tấn công của virus dại, tốt nhất là ngay trong ngày đầu tiên. Đặc biệt, nếu vết thương nặng hoặc ở các vị trí như đầu, mặt, cổ, đầu các chi, bộ phận sinh dục... thì càng phải tiêm sớm nhất có thể.\n",
      "Sau khi xâm nhập vào cơ thể người, virus dại nhanh chóng nhân số lượng lên nhiều lần và bắt đầu di chuyển dọc theo các dây thần kinh, tiến thẳng lên não với tốc độ từ 12-24mm mỗi ngày. Một số người chờ đến khi chó, mèo chết mới chịu đi tiêm, như vậy rất nguy hiểm.\n",
      "Ngoài việc tiêm phòng sau khi bị chó, mèo cắn thì chúng ta cũng có thể tiêm dự phòng trước phơi nhiễm, nghĩa là chủ động tiêm khi chưa bị động vật cắn. Đây là cách để hạn chế rủi ro, bảo vệ an toàn tính mạng cho những người thường xuyên tiếp xúc với động vật, có nguy cơ tiếp xúc với virus dại mà không hay biết.\n",
      "Về số lượng và thời gian các mũi tiêm sẽ phụ thuộc vào từng phác đồ như sau:\n",
      "Phác đồ tiêm bắp:\n",
      "Người chưa tiêm dự phòng: tiêm 5 mũi (0,5 ml/liều) vào các ngày 0, 3, 7, 14, 28. Trong trường hợp phơi nhiễm độ III cần phối hợp tiêm Immunoglobulin dại kết hợp. Người đã tiêm dự phòng trước hoặc sau phơi nhiễm ít nhất 3 mũi vaccine dại nuôi cấy trên tế bào: tiêm 2 liều vào ngày 0 và 3.\n",
      "Phác đồ tiêm trong da:\n",
      "Người chưa tiêm dự phòng: tuân thủ phác đồ \"2-2-2-2\": Hai mũi tiêm trong da vào 2 vị trí khác nhau vào các ngày 0, 3, 7, 28. Người đã tiêm dự phòng: tiêm 0,1ml vào các ngày 0 và 3.\n",
      "Về độ an toàn của vaccine phòng dại, nhiều người cảm thấy e ngại vì thế hệ vaccine cũ trước đây có thể gây nên các tác dụng phụ lên não, hệ thần kinh. Tuy nhiên, hiện nay, vaccine phòng dại được sản xuất theo công nghệ mới, nuôi cấy trên tế bào Vero nên rất an toàn đối với sức khỏe. Bạn có thể hoàn toàn yên tâm về vấn đề này.\n",
      "Hiện nay, tại Việt Nam đang có 2 loại vaccine phòng dại gồm Verorab (Pháp) và Abhayrab (Ấn Độ). Đây đều là những loại vaccine đã được kiểm định an toàn, khẳng định khả năng đáp ứng miễn dịch cao sau khi tiêm đủ liều.\n"
     ]
    }
   ],
   "source": [
    "print(df_clean_final.loc[66, 'answers'])"
   ]
  },
  {
   "cell_type": "code",
   "execution_count": 15,
   "metadata": {},
   "outputs": [],
   "source": [
    "def separate_credit(answers):\n",
    "    list_lines = answers.split('\\n')\n",
    "    titles = [\"bác sĩ\", \"bs\", \"ts\", \"thầy thuốc\", \"pgs\", \"gs\", \"tiến sĩ\", \"lương y\"]\n",
    "    is_title = False\n",
    "    for title in titles:\n",
    "        if title in list_lines[-1].lower():\n",
    "            is_title = True\n",
    "            break\n",
    "    institutions = [\"bệnh viện\", \"viện\", \"trường\", \"phòng khám\", \"phòng mạch\",\n",
    "        \"trưởng khoa\"]\n",
    "    is_institution = False\n",
    "    for institution in institutions:\n",
    "        if institution in list_lines[-1].lower():\n",
    "            is_institution = True\n",
    "            break\n",
    "    if is_title:\n",
    "        return '\\n'.join(list_lines[:-1]), list_lines[-1] + \"\\n\"\n",
    "    elif is_institution:\n",
    "        return '\\n'.join(list_lines[:-2]), '\\n'.join(list_lines[-2:]) + \"\\n\"\n",
    "    else:\n",
    "        return answers, ''"
   ]
  },
  {
   "cell_type": "code",
   "execution_count": 16,
   "metadata": {},
   "outputs": [],
   "source": [
    "df_clean_final['text'] = df_clean_final.apply(get_text, axis=1)"
   ]
  },
  {
   "cell_type": "code",
   "execution_count": null,
   "metadata": {},
   "outputs": [],
   "source": []
  },
  {
   "cell_type": "code",
   "execution_count": 17,
   "metadata": {},
   "outputs": [
    {
     "data": {
      "text/plain": [
       "(746, 5)"
      ]
     },
     "execution_count": 17,
     "metadata": {},
     "output_type": "execute_result"
    }
   ],
   "source": [
    "df_clean_final.shape"
   ]
  },
  {
   "cell_type": "code",
   "execution_count": 18,
   "metadata": {},
   "outputs": [
    {
     "data": {
      "text/plain": [
       "<AxesSubplot: >"
      ]
     },
     "execution_count": 18,
     "metadata": {},
     "output_type": "execute_result"
    },
    {
     "data": {
      "image/png": "[encoded data removed]",
      "text/plain": [
       "<Figure size 640x480 with 1 Axes>"
      ]
     },
     "metadata": {},
     "output_type": "display_data"
    }
   ],
   "source": [
    "df_clean_final['num_words'] = df_clean_final['text'].apply(lambda x: len(x.split()))\n",
    "df_clean_final['num_words'].hist(bins=100)"
   ]
  },
  {
   "cell_type": "code",
   "execution_count": 19,
   "metadata": {},
   "outputs": [],
   "source": [
    "df_out = df_clean_final[\n",
    "    df_clean_final['num_words'].between(100,800) & df_clean_final['source'].apply(lambda x: len(x) >= 5)\n",
    "    ].reset_index(drop=True)"
   ]
  },
  {
   "cell_type": "code",
   "execution_count": 20,
   "metadata": {},
   "outputs": [
    {
     "data": {
      "text/plain": [
       "True     688\n",
       "False     41\n",
       "Name: train, dtype: int64"
      ]
     },
     "execution_count": 20,
     "metadata": {},
     "output_type": "execute_result"
    }
   ],
   "source": [
    "# Train-test split 5% test\n",
    "np.random.seed(42)\n",
    "df_out['train'] = np.random.uniform(0, 1, len(df_out)) <= .95\n",
    "df_out['train'].value_counts()\n"
   ]
  },
  {
   "cell_type": "code",
   "execution_count": 21,
   "metadata": {},
   "outputs": [],
   "source": [
    "df_out[df_out['train']].reset_index(drop=True).to_parquet(\n",
    "    'data/clean/health_qa_train.parquet')\n",
    "df_out[~df_out['train']].reset_index(drop=True).to_parquet(\n",
    "    'data/clean/health_qa_test.parquet')"
   ]
  },
  {
   "cell_type": "code",
   "execution_count": 22,
   "metadata": {},
   "outputs": [],
   "source": [
    "df_out.to_parquet('data/clean/health_qa.parquet')"
   ]
  },
  {
   "cell_type": "code",
   "execution_count": 23,
   "metadata": {},
   "outputs": [],
   "source": [
    "df_out.to_excel('data/clean/health_qa.xlsx', index=False)"
   ]
  },
  {
   "cell_type": "code",
   "execution_count": 24,
   "metadata": {},
   "outputs": [],
   "source": [
    "name_and_title_words = []\n",
    "for list_text in df_out['source'].apply(lambda x: x.split('\\n')[0].split()[:10]):\n",
    "    for text in list_text:\n",
    "        name_and_title_words.append(text.lower())"
   ]
  },
  {
   "cell_type": "code",
   "execution_count": null,
   "metadata": {},
   "outputs": [],
   "source": []
  }
 ],
 "metadata": {
  "kernelspec": {
   "display_name": "trans",
   "language": "python",
   "name": "python3"
  },
  "language_info": {
   "codemirror_mode": {
    "name": "ipython",
    "version": 3
   },
   "file_extension": ".py",
   "mimetype": "text/x-python",
   "name": "python",
   "nbconvert_exporter": "python",
   "pygments_lexer": "ipython3",
   "version": "3.9.15"
  }
 },
 "nbformat": 4,
 "nbformat_minor": 2
}
